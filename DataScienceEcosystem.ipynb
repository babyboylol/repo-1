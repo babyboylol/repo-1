{
 "cells": [
  {
   "cell_type": "markdown",
   "id": "6a6b9ae4-325b-4cd2-8bae-fc9dd52c4c3d",
   "metadata": {},
   "source": [
    "# Data Science Tools and Ecosystem"
   ]
  },
  {
   "cell_type": "markdown",
   "id": "f332850b-b5ff-43cc-aec4-143cc4488104",
   "metadata": {},
   "source": [
    "In this notebook, Data Science Tools and Ecosystem are summarized."
   ]
  },
  {
   "cell_type": "markdown",
   "id": "0981b384-75c6-41a9-b7e9-19377ef4f650",
   "metadata": {},
   "source": [
    "**Objectives:**\n",
    "- Popular Languages\n",
    "- Commonly used libraries \n",
    "- Expressions in Python\n",
    "- Data Science Tools "
   ]
  },
  {
   "cell_type": "markdown",
   "id": "8088286a-eb53-4ca1-a091-119727dae549",
   "metadata": {},
   "source": [
    "Some of the popular languages that Data Scientists use are:\n",
    "1. Python\n",
    "2. R\n",
    "3. SQL"
   ]
  },
  {
   "cell_type": "markdown",
   "id": "dd2b7c96-7c62-420c-886a-3eb5ed4ac273",
   "metadata": {},
   "source": [
    "Some of the commonly used libraries used by Data Scientists include:\n",
    "1. TensorFlow\n",
    "2. Pandas\n",
    "3. NumPy"
   ]
  },
  {
   "cell_type": "markdown",
   "id": "62b1ba67-9cd7-46a6-9163-da04cd8c6b45",
   "metadata": {},
   "source": [
    "| Data Science Tools       |            |  |\n",
    "| ----------------- |:-------------:| -----:|\n",
    "| GitHub      | \n",
    "| Jupyter Notebooks     |\n",
    "| RStudio IDE | "
   ]
  },
  {
   "cell_type": "markdown",
   "id": "6278cfae-a7dc-40e1-8dd6-7b1775399143",
   "metadata": {},
   "source": [
    "### Below are a few examples of evaluating arithmetic expressions in Python"
   ]
  },
  {
   "cell_type": "markdown",
   "id": "f3203c7a-0a10-4a9d-b999-b04c88bf63f5",
   "metadata": {},
   "source": [
    " This a simple arithmetic expression to mutiply then add integers"
   ]
  },
  {
   "cell_type": "code",
   "execution_count": 3,
   "id": "de84f9fb-8c54-460f-aa8c-bb0081688d50",
   "metadata": {},
   "outputs": [
    {
     "data": {
      "text/plain": [
       "17"
      ]
     },
     "execution_count": 3,
     "metadata": {},
     "output_type": "execute_result"
    }
   ],
   "source": [
    " (3*4)+5"
   ]
  },
  {
   "cell_type": "markdown",
   "id": "0df8eb60-bed8-4931-ac7e-d6e19ecd21ad",
   "metadata": {},
   "source": [
    "This will convert 200 minutes to hours by diving by 60"
   ]
  },
  {
   "cell_type": "code",
   "execution_count": 6,
   "id": "096242c7-e117-4ca7-8209-141ace346239",
   "metadata": {},
   "outputs": [
    {
     "data": {
      "text/plain": [
       "3.3333333333333335"
      ]
     },
     "execution_count": 6,
     "metadata": {},
     "output_type": "execute_result"
    }
   ],
   "source": [
    "200 / 60"
   ]
  },
  {
   "cell_type": "markdown",
   "id": "d0de040c-cc0a-4ab7-a57d-619298464ecd",
   "metadata": {},
   "source": [
    "## Author\n",
    "\n",
    "Khalil Frederick "
   ]
  },
  {
   "cell_type": "code",
   "execution_count": null,
   "id": "547aeb94-fda0-4ab4-b188-b0aecc66d54c",
   "metadata": {},
   "outputs": [],
   "source": []
  }
 ],
 "metadata": {
  "kernelspec": {
   "display_name": "Python",
   "language": "python",
   "name": "conda-env-python-py"
  },
  "language_info": {
   "codemirror_mode": {
    "name": "ipython",
    "version": 3
   },
   "file_extension": ".py",
   "mimetype": "text/x-python",
   "name": "python",
   "nbconvert_exporter": "python",
   "pygments_lexer": "ipython3",
   "version": "3.7.12"
  }
 },
 "nbformat": 4,
 "nbformat_minor": 5
}
